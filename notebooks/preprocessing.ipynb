{
 "cells": [
  {
   "cell_type": "markdown",
   "metadata": {},
   "source": [
    "# 3. Preprocessing & Feat Eng"
   ]
  },
  {
   "cell_type": "code",
   "execution_count": 111,
   "metadata": {},
   "outputs": [],
   "source": [
    "import pandas as pd\n",
    "import numpy as np\n",
    "import seaborn as sns\n",
    "import scipy.stats as scs\n",
    "import joblib\n",
    "import ruamel.yaml as yaml\n",
    "import matplotlib.pyplot as plt\n",
    "from imblearn.under_sampling import RandomUnderSampler\n",
    "from imblearn.over_sampling import RandomOverSampler, SMOTE\n",
    "from sklearn.preprocessing import LabelEncoder\n",
    "from sklearn.preprocessing import OneHotEncoder"
   ]
  },
  {
   "cell_type": "markdown",
   "metadata": {},
   "source": [
    "## 0. Import Params & Data"
   ]
  },
  {
   "cell_type": "code",
   "execution_count": 112,
   "metadata": {},
   "outputs": [],
   "source": [
    "params_dir = '../config/params.yaml'"
   ]
  },
  {
   "cell_type": "code",
   "execution_count": 113,
   "metadata": {},
   "outputs": [],
   "source": [
    "def load_params(params_dir):\n",
    "  with open(params_dir, 'r') as file:\n",
    "    params = yaml.safe_load(file)\n",
    "\n",
    "    return params"
   ]
  },
  {
   "cell_type": "code",
   "execution_count": 114,
   "metadata": {},
   "outputs": [],
   "source": [
    "params = load_params(params_dir)"
   ]
  },
  {
   "cell_type": "code",
   "execution_count": 115,
   "metadata": {},
   "outputs": [],
   "source": [
    "x_train = joblib.load(params['train_set_path'][0])\n",
    "y_train = joblib.load(params['train_set_path'][1])\n",
    "\n",
    "x_valid = joblib.load(params['valid_set_path'][0])\n",
    "y_valid = joblib.load(params['valid_set_path'][1])\n",
    "\n",
    "x_test = joblib.load(params['test_set_path'][0])\n",
    "y_test = joblib.load(params['test_set_path'][1])"
   ]
  },
  {
   "cell_type": "code",
   "execution_count": 116,
   "metadata": {},
   "outputs": [],
   "source": [
    "dataset = pd.concat([x_train, y_train], axis = 1)\n",
    "\n",
    "valid_set = pd.concat([x_valid, y_valid], axis = 1)\n",
    "\n",
    "test_set = pd.concat([x_test, y_test], axis = 1)"
   ]
  },
  {
   "cell_type": "markdown",
   "metadata": {},
   "source": [
    "### 0.1. Train set"
   ]
  },
  {
   "cell_type": "code",
   "execution_count": 117,
   "metadata": {},
   "outputs": [],
   "source": [
    "dataset['DEATH'] = np.where(dataset.DATE_DIED == '9999-99-99', 0, 1)\n",
    "dataset['DEATH'] = dataset['DEATH'].astype(int)"
   ]
  },
  {
   "cell_type": "code",
   "execution_count": 118,
   "metadata": {},
   "outputs": [
    {
     "data": {
      "text/plain": [
       "0    679840\n",
       "1     54162\n",
       "Name: DEATH, dtype: int64"
      ]
     },
     "execution_count": 118,
     "metadata": {},
     "output_type": "execute_result"
    }
   ],
   "source": [
    "dataset.DEATH.value_counts()"
   ]
  },
  {
   "cell_type": "code",
   "execution_count": 119,
   "metadata": {},
   "outputs": [],
   "source": [
    "dataset = dataset.drop(columns=['DATE_DIED'])"
   ]
  },
  {
   "cell_type": "markdown",
   "metadata": {},
   "source": [
    "### 0.2. Validation set"
   ]
  },
  {
   "cell_type": "code",
   "execution_count": 120,
   "metadata": {},
   "outputs": [
    {
     "data": {
      "text/plain": [
       "0    145940\n",
       "1     11346\n",
       "Name: DEATH, dtype: int64"
      ]
     },
     "execution_count": 120,
     "metadata": {},
     "output_type": "execute_result"
    }
   ],
   "source": [
    "valid_set['DEATH'] = np.where(valid_set.DATE_DIED == '9999-99-99', 0, 1)\n",
    "valid_set['DEATH'] = valid_set['DEATH'].astype(int)\n",
    "\n",
    "\n",
    "valid_set.drop(columns=['DATE_DIED'], inplace=True)\n",
    "\n",
    "valid_set.DEATH.value_counts()\n"
   ]
  },
  {
   "cell_type": "markdown",
   "metadata": {},
   "source": [
    "### 0.3. Test set"
   ]
  },
  {
   "cell_type": "code",
   "execution_count": 121,
   "metadata": {},
   "outputs": [
    {
     "data": {
      "text/plain": [
       "0    145853\n",
       "1     11434\n",
       "Name: DEATH, dtype: int64"
      ]
     },
     "execution_count": 121,
     "metadata": {},
     "output_type": "execute_result"
    }
   ],
   "source": [
    "test_set['DEATH'] = np.where(test_set.DATE_DIED == '9999-99-99', 0, 1)\n",
    "test_set['DEATH'] = test_set['DEATH'].astype(int)\n",
    "\n",
    "\n",
    "test_set.drop(columns=['DATE_DIED'], inplace=True)\n",
    "\n",
    "test_set.DEATH.value_counts()"
   ]
  },
  {
   "cell_type": "markdown",
   "metadata": {},
   "source": [
    "## 1. Handle Missing Value"
   ]
  },
  {
   "cell_type": "code",
   "execution_count": 122,
   "metadata": {},
   "outputs": [],
   "source": [
    "def nan_detector(set_data):\n",
    "    set_data = set_data.copy()\n",
    "    # handle USMER\n",
    "    set_data.USMER.replace([97, 98, 99], np.nan, inplace = True)\n",
    "\n",
    "    # handle SEX\n",
    "    set_data.SEX.replace([97, 98, 99], np.nan, inplace = True)\n",
    "\n",
    "    # handle PATIENT_TYPE\n",
    "    set_data.PATIENT_TYPE.replace([97, 98, 99], np.nan, inplace = True)\n",
    "\n",
    "    # handle INTUBED\n",
    "    set_data.INTUBED.replace([97, 98, 99], np.nan, inplace = True)\n",
    "\n",
    "    # handle PNEUMONIA\n",
    "    set_data.PNEUMONIA.replace([97, 98, 99], np.nan, inplace = True)\n",
    "\n",
    "    # handle PREGNANT\n",
    "    set_data.PREGNANT.replace([97, 98, 99], np.nan, inplace = True)\n",
    "\n",
    "    # handle DIABETES\n",
    "    set_data.DIABETES.replace([97, 98, 99], np.nan, inplace = True)\n",
    "\n",
    "    # handle COPD\n",
    "    set_data.COPD.replace([97, 98, 99], np.nan, inplace = True)\n",
    "\n",
    "    # handle ASTHMA\n",
    "    set_data.ASTHMA.replace([97, 98, 99], np.nan, inplace = True)\n",
    "\n",
    "    # handle INMSUPR\n",
    "    set_data.INMSUPR.replace([97, 98, 99], np.nan, inplace = True)\n",
    "\n",
    "    # handle HIPERTENSION\n",
    "    set_data.HIPERTENSION.replace([97, 98, 99], np.nan, inplace = True)\n",
    "\n",
    "    # handle OTHER_DISEASE\n",
    "    set_data.OTHER_DISEASE.replace([97, 98, 99], np.nan, inplace = True)\n",
    "\n",
    "    # handle CARDIOVASCULAR\n",
    "    set_data.CARDIOVASCULAR.replace([97, 98, 99], np.nan, inplace = True)\n",
    "\n",
    "    # handle OBESITY\n",
    "    set_data.OBESITY.replace([97, 98, 99], np.nan, inplace = True)\n",
    "\n",
    "    # handle RENAL_CHRONIC\n",
    "    set_data.RENAL_CHRONIC.replace([97, 98, 99], np.nan, inplace = True)\n",
    "\n",
    "    # handle TOBACCO\n",
    "    set_data.TOBACCO.replace([97, 98, 99], np.nan, inplace = True)\n",
    "\n",
    "    # handle ICU\n",
    "    set_data.ICU.replace([97, 98, 99], np.nan, inplace = True)\n",
    "\n",
    "    return set_data"
   ]
  },
  {
   "cell_type": "markdown",
   "metadata": {},
   "source": [
    "### 1.1. Convert 97..98..99 to nan"
   ]
  },
  {
   "cell_type": "code",
   "execution_count": 123,
   "metadata": {},
   "outputs": [],
   "source": [
    "dataset = nan_detector(dataset)\n",
    "valid_set = nan_detector(valid_set)\n",
    "test_set = nan_detector(test_set)"
   ]
  },
  {
   "cell_type": "code",
   "execution_count": 124,
   "metadata": {},
   "outputs": [
    {
     "data": {
      "text/plain": [
       "USMER                        0\n",
       "MEDICAL_UNIT                 0\n",
       "SEX                          0\n",
       "PATIENT_TYPE                 0\n",
       "INTUBED                 598791\n",
       "PNEUMONIA                11200\n",
       "AGE                          0\n",
       "PREGNANT                369257\n",
       "DIABETES                  2349\n",
       "COPD                      2112\n",
       "ASTHMA                    2102\n",
       "INMSUPR                   2391\n",
       "HIPERTENSION              2187\n",
       "OTHER_DISEASE             3552\n",
       "CARDIOVASCULAR            2178\n",
       "OBESITY                   2136\n",
       "RENAL_CHRONIC             2117\n",
       "TOBACCO                   2278\n",
       "CLASIFFICATION_FINAL         0\n",
       "ICU                     598903\n",
       "DEATH                        0\n",
       "dtype: int64"
      ]
     },
     "execution_count": 124,
     "metadata": {},
     "output_type": "execute_result"
    }
   ],
   "source": [
    "dataset.isnull().sum()"
   ]
  },
  {
   "cell_type": "code",
   "execution_count": 125,
   "metadata": {},
   "outputs": [
    {
     "data": {
      "text/plain": [
       "USMER                        0\n",
       "MEDICAL_UNIT                 0\n",
       "SEX                          0\n",
       "PATIENT_TYPE                 0\n",
       "INTUBED                 128629\n",
       "PNEUMONIA                 2440\n",
       "AGE                          0\n",
       "PREGNANT                 78988\n",
       "DIABETES                   506\n",
       "COPD                       470\n",
       "ASTHMA                     444\n",
       "INMSUPR                    522\n",
       "HIPERTENSION               477\n",
       "OTHER_DISEASE              757\n",
       "CARDIOVASCULAR             469\n",
       "OBESITY                    458\n",
       "RENAL_CHRONIC              460\n",
       "TOBACCO                    489\n",
       "CLASIFFICATION_FINAL         0\n",
       "ICU                     128657\n",
       "DEATH                        0\n",
       "dtype: int64"
      ]
     },
     "execution_count": 125,
     "metadata": {},
     "output_type": "execute_result"
    }
   ],
   "source": [
    "valid_set.isnull().sum()"
   ]
  },
  {
   "cell_type": "code",
   "execution_count": 126,
   "metadata": {},
   "outputs": [
    {
     "data": {
      "text/plain": [
       "USMER                        0\n",
       "MEDICAL_UNIT                 0\n",
       "SEX                          0\n",
       "PATIENT_TYPE                 0\n",
       "INTUBED                 128449\n",
       "PNEUMONIA                 2363\n",
       "AGE                          0\n",
       "PREGNANT                 79020\n",
       "DIABETES                   483\n",
       "COPD                       421\n",
       "ASTHMA                     433\n",
       "INMSUPR                    491\n",
       "HIPERTENSION               440\n",
       "OTHER_DISEASE              736\n",
       "CARDIOVASCULAR             429\n",
       "OBESITY                    438\n",
       "RENAL_CHRONIC              429\n",
       "TOBACCO                    453\n",
       "CLASIFFICATION_FINAL         0\n",
       "ICU                     128472\n",
       "DEATH                        0\n",
       "dtype: int64"
      ]
     },
     "execution_count": 126,
     "metadata": {},
     "output_type": "execute_result"
    }
   ],
   "source": [
    "test_set.isnull().sum()"
   ]
  },
  {
   "cell_type": "markdown",
   "metadata": {},
   "source": [
    "### 1.2. Impute data"
   ]
  },
  {
   "cell_type": "markdown",
   "metadata": {},
   "source": [
    "### 1.2.1 Handling imputed with median"
   ]
  },
  {
   "cell_type": "code",
   "execution_count": 140,
   "metadata": {},
   "outputs": [],
   "source": [
    "def impute_median(dataset):\n",
    "  impute_values = {\n",
    "    \"INTUBED\" : int(dataset.INTUBED.median()),\n",
    "    \"PNEUMONIA\" : int(dataset.PNEUMONIA.median()),\n",
    "    \"PREGNANT\" : int(dataset.PREGNANT.median()),\n",
    "    \"DIABETES\" : int(dataset.DIABETES.median()),\n",
    "    \"COPD\" : int(dataset.COPD.median()),\n",
    "    \"ASTHMA\" : int(dataset.ASTHMA.median()),\n",
    "    \"INMSUPR\" : int(dataset.INMSUPR.median()),\n",
    "    \"OTHER_DISEASE\" : int(dataset.OTHER_DISEASE.median()),\n",
    "    \"CARDIOVASCULAR\" : int(dataset.CARDIOVASCULAR.median()),\n",
    "    \"HIPERTENSION\" : int(dataset.HIPERTENSION.median()),\n",
    "    \"OBESITY\" : int(dataset.OBESITY.median()),\n",
    "    \"RENAL_CHRONIC\" : int(dataset.RENAL_CHRONIC.median()),\n",
    "    \"TOBACCO\" : int(dataset.TOBACCO.median()),\n",
    "    \"ICU\" : int(dataset.ICU.median()),\n",
    "  }\n",
    "  dataset.fillna(value = impute_values, inplace = True)"
   ]
  },
  {
   "cell_type": "code",
   "execution_count": 141,
   "metadata": {},
   "outputs": [],
   "source": [
    "impute_median(dataset)\n",
    "impute_median(valid_set)\n",
    "impute_median(test_set)"
   ]
  },
  {
   "cell_type": "code",
   "execution_count": 142,
   "metadata": {},
   "outputs": [
    {
     "data": {
      "text/plain": [
       "USMER                   0\n",
       "MEDICAL_UNIT            0\n",
       "SEX                     0\n",
       "PATIENT_TYPE            0\n",
       "INTUBED                 0\n",
       "PNEUMONIA               0\n",
       "AGE                     0\n",
       "PREGNANT                0\n",
       "DIABETES                0\n",
       "COPD                    0\n",
       "ASTHMA                  0\n",
       "INMSUPR                 0\n",
       "HIPERTENSION            0\n",
       "OTHER_DISEASE           0\n",
       "CARDIOVASCULAR          0\n",
       "OBESITY                 0\n",
       "RENAL_CHRONIC           0\n",
       "TOBACCO                 0\n",
       "CLASIFFICATION_FINAL    0\n",
       "ICU                     0\n",
       "DEATH                   0\n",
       "dtype: int64"
      ]
     },
     "execution_count": 142,
     "metadata": {},
     "output_type": "execute_result"
    }
   ],
   "source": [
    "\n",
    "dataset.isnull().sum()"
   ]
  },
  {
   "cell_type": "code",
   "execution_count": 143,
   "metadata": {},
   "outputs": [
    {
     "data": {
      "text/plain": [
       "USMER                   0\n",
       "MEDICAL_UNIT            0\n",
       "SEX                     0\n",
       "PATIENT_TYPE            0\n",
       "INTUBED                 0\n",
       "PNEUMONIA               0\n",
       "AGE                     0\n",
       "PREGNANT                0\n",
       "DIABETES                0\n",
       "COPD                    0\n",
       "ASTHMA                  0\n",
       "INMSUPR                 0\n",
       "HIPERTENSION            0\n",
       "OTHER_DISEASE           0\n",
       "CARDIOVASCULAR          0\n",
       "OBESITY                 0\n",
       "RENAL_CHRONIC           0\n",
       "TOBACCO                 0\n",
       "CLASIFFICATION_FINAL    0\n",
       "ICU                     0\n",
       "DEATH                   0\n",
       "dtype: int64"
      ]
     },
     "execution_count": 143,
     "metadata": {},
     "output_type": "execute_result"
    }
   ],
   "source": [
    "valid_set.isnull().sum()"
   ]
  },
  {
   "cell_type": "code",
   "execution_count": 144,
   "metadata": {},
   "outputs": [
    {
     "data": {
      "text/plain": [
       "USMER                   0\n",
       "MEDICAL_UNIT            0\n",
       "SEX                     0\n",
       "PATIENT_TYPE            0\n",
       "INTUBED                 0\n",
       "PNEUMONIA               0\n",
       "AGE                     0\n",
       "PREGNANT                0\n",
       "DIABETES                0\n",
       "COPD                    0\n",
       "ASTHMA                  0\n",
       "INMSUPR                 0\n",
       "HIPERTENSION            0\n",
       "OTHER_DISEASE           0\n",
       "CARDIOVASCULAR          0\n",
       "OBESITY                 0\n",
       "RENAL_CHRONIC           0\n",
       "TOBACCO                 0\n",
       "CLASIFFICATION_FINAL    0\n",
       "ICU                     0\n",
       "DEATH                   0\n",
       "dtype: int64"
      ]
     },
     "execution_count": 144,
     "metadata": {},
     "output_type": "execute_result"
    }
   ],
   "source": [
    "test_set.isnull().sum()"
   ]
  },
  {
   "cell_type": "markdown",
   "metadata": {},
   "source": [
    "### 2. Balancing label"
   ]
  },
  {
   "cell_type": "code",
   "execution_count": 145,
   "metadata": {},
   "outputs": [
    {
     "data": {
      "text/plain": [
       "<AxesSubplot: xlabel='DEATH', ylabel='Count'>"
      ]
     },
     "execution_count": 145,
     "metadata": {},
     "output_type": "execute_result"
    },
    {
     "data": {
      "image/png": "[encoded data removed]",
      "text/plain": [
       "<Figure size 640x480 with 1 Axes>"
      ]
     },
     "metadata": {},
     "output_type": "display_data"
    }
   ],
   "source": [
    "sns.histplot(data = dataset, x = \"DEATH\", hue = \"DEATH\")"
   ]
  },
  {
   "cell_type": "markdown",
   "metadata": {},
   "source": [
    "### 2.1 Undersampling"
   ]
  },
  {
   "cell_type": "code",
   "execution_count": 146,
   "metadata": {},
   "outputs": [
    {
     "data": {
      "text/plain": [
       "<AxesSubplot: xlabel='DEATH', ylabel='Count'>"
      ]
     },
     "execution_count": 146,
     "metadata": {},
     "output_type": "execute_result"
    },
    {
     "data": {
      "image/png": "[encoded data removed]",
      "text/plain": [
       "<Figure size 640x480 with 1 Axes>"
      ]
     },
     "metadata": {},
     "output_type": "display_data"
    }
   ],
   "source": [
    "rus = RandomUnderSampler(random_state = 26)\n",
    "x_rus, y_rus = rus.fit_resample(dataset.drop(\"DEATH\", axis = 1), dataset.DEATH)\n",
    "dataset_rus = pd.concat([x_rus, y_rus], axis = 1)\n",
    "\n",
    "sns.histplot(dataset_rus, x = \"DEATH\", hue = \"DEATH\")"
   ]
  },
  {
   "cell_type": "markdown",
   "metadata": {},
   "source": [
    "### 2.2. Oversampling"
   ]
  },
  {
   "cell_type": "code",
   "execution_count": 147,
   "metadata": {},
   "outputs": [
    {
     "data": {
      "text/plain": [
       "<AxesSubplot: xlabel='DEATH', ylabel='Count'>"
      ]
     },
     "execution_count": 147,
     "metadata": {},
     "output_type": "execute_result"
    },
    {
     "data": {
      "image/png": "[encoded data removed]",
      "text/plain": [
       "<Figure size 640x480 with 1 Axes>"
      ]
     },
     "metadata": {},
     "output_type": "display_data"
    }
   ],
   "source": [
    "ros = RandomOverSampler(random_state = 11)\n",
    "x_ros, y_ros = ros.fit_resample(dataset.drop(\"DEATH\", axis = 1), dataset.DEATH)\n",
    "dataset_ros = pd.concat([x_ros, y_ros], axis = 1)\n",
    "sns.histplot(dataset_ros, x = \"DEATH\", hue = \"DEATH\")"
   ]
  },
  {
   "cell_type": "markdown",
   "metadata": {},
   "source": [
    "### 2.3 Smote"
   ]
  },
  {
   "cell_type": "code",
   "execution_count": 148,
   "metadata": {},
   "outputs": [
    {
     "data": {
      "text/plain": [
       "<AxesSubplot: xlabel='DEATH', ylabel='Count'>"
      ]
     },
     "execution_count": 148,
     "metadata": {},
     "output_type": "execute_result"
    },
    {
     "data": {
      "image/png": "[encoded data removed]",
      "text/plain": [
       "<Figure size 640x480 with 1 Axes>"
      ]
     },
     "metadata": {},
     "output_type": "display_data"
    }
   ],
   "source": [
    "sm = SMOTE(random_state = 112)\n",
    "x_sm, y_sm = sm.fit_resample(dataset.drop(\"DEATH\", axis = 1), dataset.DEATH)\n",
    "dataset_sm = pd.concat([x_sm, y_sm], axis = 1)\n",
    "sns.histplot(dataset_sm, x = \"DEATH\", hue = \"DEATH\")"
   ]
  },
  {
   "cell_type": "markdown",
   "metadata": {},
   "source": [
    "### 3. Dump Data Latih"
   ]
  },
  {
   "cell_type": "code",
   "execution_count": 149,
   "metadata": {},
   "outputs": [],
   "source": [
    "params = load_params(params_dir)"
   ]
  },
  {
   "cell_type": "code",
   "execution_count": 150,
   "metadata": {},
   "outputs": [
    {
     "data": {
      "text/plain": [
       "['../data/processed/y_test_feng.pkl']"
      ]
     },
     "execution_count": 150,
     "metadata": {},
     "output_type": "execute_result"
    }
   ],
   "source": [
    "joblib.dump(x_rus, params['train_set_rus_path'][0])\n",
    "joblib.dump(y_rus, params['train_set_rus_path'][1])\n",
    "\n",
    "joblib.dump(x_ros, params['train_set_ros_path'][0])\n",
    "joblib.dump(y_ros, params['train_set_ros_path'][1])\n",
    "\n",
    "joblib.dump(x_sm, params['train_set_sm_path'][0])\n",
    "joblib.dump(y_sm, params['train_set_sm_path'][1])\n",
    "\n",
    "\n",
    "joblib.dump(dataset.drop(columns = \"DEATH\"), params['train_feng_set_path'][0])\n",
    "joblib.dump(dataset.DEATH, params['train_feng_set_path'][1])\n",
    "\n",
    "joblib.dump(valid_set.drop(columns = \"DEATH\"), params['valid_feng_set_path'][0])\n",
    "joblib.dump(valid_set.DEATH, params['valid_feng_set_path'][1])\n",
    "\n",
    "joblib.dump(test_set.drop(columns = \"DEATH\"), params['test_feng_set_path'][0])\n",
    "joblib.dump(test_set.DEATH, params['test_feng_set_path'][1])"
   ]
  },
  {
   "cell_type": "markdown",
   "metadata": {},
   "source": []
  }
 ],
 "metadata": {
  "kernelspec": {
   "display_name": "Python 3.10.1 ('.venv_final': venv)",
   "language": "python",
   "name": "python3"
  },
  "language_info": {
   "codemirror_mode": {
    "name": "ipython",
    "version": 3
   },
   "file_extension": ".py",
   "mimetype": "text/x-python",
   "name": "python",
   "nbconvert_exporter": "python",
   "pygments_lexer": "ipython3",
   "version": "3.10.1"
  },
  "orig_nbformat": 4,
  "vscode": {
   "interpreter": {
    "hash": "213bedafaca396695937205a7c126f945874af861d31e11f28ae977df16bf572"
   }
  }
 },
 "nbformat": 4,
 "nbformat_minor": 2
}
