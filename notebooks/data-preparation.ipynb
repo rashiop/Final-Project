{
 "cells": [
  {
   "cell_type": "markdown",
   "metadata": {},
   "source": [
    "# 1. Data Preparation"
   ]
  },
  {
   "cell_type": "code",
   "execution_count": 165,
   "metadata": {},
   "outputs": [],
   "source": [
    "from tqdm import tqdm\n",
    "import pandas as pd\n",
    "import numpy as np\n",
    "import joblib\n",
    "import os\n",
    "import ruamel.yaml as yaml\n",
    "\n",
    "from sklearn.model_selection import train_test_split"
   ]
  },
  {
   "cell_type": "code",
   "execution_count": 166,
   "metadata": {},
   "outputs": [],
   "source": [
    "params_dir = '../config/params.yaml'"
   ]
  },
  {
   "cell_type": "code",
   "execution_count": 167,
   "metadata": {},
   "outputs": [],
   "source": [
    "def load_params(params_dir):\n",
    "  with open(params_dir, 'r') as file:\n",
    "    params = yaml.safe_load(file)\n",
    "\n",
    "    return params"
   ]
  },
  {
   "cell_type": "code",
   "execution_count": 168,
   "metadata": {},
   "outputs": [],
   "source": [
    "params = load_params(params_dir)"
   ]
  },
  {
   "cell_type": "markdown",
   "metadata": {},
   "source": [
    "## 1. Load Dataset"
   ]
  },
  {
   "cell_type": "code",
   "execution_count": 169,
   "metadata": {},
   "outputs": [],
   "source": [
    "def read_dataset(dataset_dir):\n",
    "    dataset = pd.DataFrame()\n",
    "\n",
    "    for i in tqdm(os.listdir(dataset_dir)):\n",
    "        dataset = pd.concat([pd.read_csv(dataset_dir + i), dataset])\n",
    "    \n",
    "    return dataset"
   ]
  },
  {
   "cell_type": "code",
   "execution_count": 170,
   "metadata": {},
   "outputs": [
    {
     "name": "stderr",
     "output_type": "stream",
     "text": [
      "100%|██████████| 1/1 [00:01<00:00,  1.77s/it]\n"
     ]
    }
   ],
   "source": [
    "dataset = read_dataset(params[\"dataset_dir\"])"
   ]
  },
  {
   "cell_type": "code",
   "execution_count": 171,
   "metadata": {},
   "outputs": [
    {
     "name": "stdout",
     "output_type": "stream",
     "text": [
      "   USMER  MEDICAL_UNIT  SEX  PATIENT_TYPE   DATE_DIED  INTUBED  PNEUMONIA  \\\n",
      "0      2             1    1             1  03/05/2020       97          1   \n",
      "1      2             1    2             1  03/06/2020       97          1   \n",
      "2      2             1    2             2  09/06/2020        1          2   \n",
      "3      2             1    1             1  12/06/2020       97          2   \n",
      "4      2             1    2             1  21/06/2020       97          2   \n",
      "\n",
      "   AGE  PREGNANT  DIABETES  ...  ASTHMA  INMSUPR  HIPERTENSION  OTHER_DISEASE  \\\n",
      "0   65         2         2  ...       2        2             1              2   \n",
      "1   72        97         2  ...       2        2             1              2   \n",
      "2   55        97         1  ...       2        2             2              2   \n",
      "3   53         2         2  ...       2        2             2              2   \n",
      "4   68        97         1  ...       2        2             1              2   \n",
      "\n",
      "   CARDIOVASCULAR  OBESITY  RENAL_CHRONIC  TOBACCO  CLASIFFICATION_FINAL  ICU  \n",
      "0               2        2              2        2                     3   97  \n",
      "1               2        1              1        2                     5   97  \n",
      "2               2        2              2        2                     3    2  \n",
      "3               2        2              2        2                     7   97  \n",
      "4               2        2              2        2                     3   97  \n",
      "\n",
      "[5 rows x 21 columns]\n",
      "              USMER  MEDICAL_UNIT           SEX  PATIENT_TYPE       INTUBED  \\\n",
      "count  1.048575e+06  1.048575e+06  1.048575e+06  1.048575e+06  1.048575e+06   \n",
      "mean   1.632194e+00  8.980565e+00  1.499259e+00  1.190765e+00  7.952288e+01   \n",
      "std    4.822084e-01  3.723278e+00  4.999997e-01  3.929041e-01  3.686889e+01   \n",
      "min    1.000000e+00  1.000000e+00  1.000000e+00  1.000000e+00  1.000000e+00   \n",
      "25%    1.000000e+00  4.000000e+00  1.000000e+00  1.000000e+00  9.700000e+01   \n",
      "50%    2.000000e+00  1.200000e+01  1.000000e+00  1.000000e+00  9.700000e+01   \n",
      "75%    2.000000e+00  1.200000e+01  2.000000e+00  1.000000e+00  9.700000e+01   \n",
      "max    2.000000e+00  1.300000e+01  2.000000e+00  2.000000e+00  9.900000e+01   \n",
      "\n",
      "          PNEUMONIA           AGE      PREGNANT      DIABETES          COPD  \\\n",
      "count  1.048575e+06  1.048575e+06  1.048575e+06  1.048575e+06  1.048575e+06   \n",
      "mean   3.346831e+00  4.179410e+01  4.976558e+01  2.186404e+00  2.260569e+00   \n",
      "std    1.191288e+01  1.690739e+01  4.751073e+01  5.424242e+00  5.132258e+00   \n",
      "min    1.000000e+00  0.000000e+00  1.000000e+00  1.000000e+00  1.000000e+00   \n",
      "25%    2.000000e+00  3.000000e+01  2.000000e+00  2.000000e+00  2.000000e+00   \n",
      "50%    2.000000e+00  4.000000e+01  9.700000e+01  2.000000e+00  2.000000e+00   \n",
      "75%    2.000000e+00  5.300000e+01  9.700000e+01  2.000000e+00  2.000000e+00   \n",
      "max    9.900000e+01  1.210000e+02  9.800000e+01  9.800000e+01  9.800000e+01   \n",
      "\n",
      "             ASTHMA       INMSUPR  HIPERTENSION  OTHER_DISEASE  \\\n",
      "count  1.048575e+06  1.048575e+06  1.048575e+06   1.048575e+06   \n",
      "mean   2.242626e+00  2.298132e+00  2.128989e+00   2.435143e+00   \n",
      "std    5.114089e+00  5.462843e+00  5.236397e+00   6.646676e+00   \n",
      "min    1.000000e+00  1.000000e+00  1.000000e+00   1.000000e+00   \n",
      "25%    2.000000e+00  2.000000e+00  2.000000e+00   2.000000e+00   \n",
      "50%    2.000000e+00  2.000000e+00  2.000000e+00   2.000000e+00   \n",
      "75%    2.000000e+00  2.000000e+00  2.000000e+00   2.000000e+00   \n",
      "max    9.800000e+01  9.800000e+01  9.800000e+01   9.800000e+01   \n",
      "\n",
      "       CARDIOVASCULAR       OBESITY  RENAL_CHRONIC       TOBACCO  \\\n",
      "count    1.048575e+06  1.048575e+06   1.048575e+06  1.048575e+06   \n",
      "mean     2.261810e+00  2.125176e+00   2.257180e+00  2.214333e+00   \n",
      "std      5.194850e+00  5.175445e+00   5.135354e+00  5.323097e+00   \n",
      "min      1.000000e+00  1.000000e+00   1.000000e+00  1.000000e+00   \n",
      "25%      2.000000e+00  2.000000e+00   2.000000e+00  2.000000e+00   \n",
      "50%      2.000000e+00  2.000000e+00   2.000000e+00  2.000000e+00   \n",
      "75%      2.000000e+00  2.000000e+00   2.000000e+00  2.000000e+00   \n",
      "max      9.800000e+01  9.800000e+01   9.800000e+01  9.800000e+01   \n",
      "\n",
      "       CLASIFFICATION_FINAL           ICU  \n",
      "count          1.048575e+06  1.048575e+06  \n",
      "mean           5.305653e+00  7.955397e+01  \n",
      "std            1.881165e+00  3.682307e+01  \n",
      "min            1.000000e+00  1.000000e+00  \n",
      "25%            3.000000e+00  9.700000e+01  \n",
      "50%            6.000000e+00  9.700000e+01  \n",
      "75%            7.000000e+00  9.700000e+01  \n",
      "max            7.000000e+00  9.900000e+01  \n"
     ]
    }
   ],
   "source": [
    "print(dataset.head())\n",
    "\n",
    "print(dataset.describe())"
   ]
  },
  {
   "cell_type": "markdown",
   "metadata": {},
   "source": [
    "## Data Definition"
   ]
  },
  {
   "cell_type": "markdown",
   "metadata": {},
   "source": [
    "```\n",
    "DEATH:\n",
    "  [integer]\n",
    "  [1-2]\n",
    "  1 berarti meninggal\n",
    "  2 berarti selamat\n",
    "\n",
    "SEX:\n",
    "  [integer]\n",
    "  [1-2]\n",
    "  jenis kelamin wanita atau pria\n",
    "\n",
    "AGE:\n",
    "  [integer]\n",
    "  [1-121]\n",
    "  umur pasien\n",
    "\n",
    "CLASIFFICATION_FINAL:\n",
    "  [integer]\n",
    "  [1-7]\n",
    "  hasil test covid\n",
    "  positif covid bernilai 1-3\n",
    "  negatif covid bernilai diatas 4\n",
    "\n",
    "PATIENT_TYPE:\n",
    "  [integer]\n",
    "  [1-2]\n",
    "  di rumah sakit atau isolasi mandiri\n",
    "\n",
    "PNEUMONIA:\n",
    "  [integer]\n",
    "  [1-2]\n",
    "  apakah pasien memiliki air sacs inflammation\n",
    "\n",
    "PREGNANT:\n",
    "  [integer]\n",
    "  [1-2]\n",
    "  apakah pasien hamil atau tidak\n",
    "\n",
    "DIABETES:\n",
    "  [integer]\n",
    "  [1-2]\n",
    "  apakah pasien diabetes atau tidak\n",
    "\n",
    "COPD:\n",
    "  [integer]\n",
    "  [1-2]\n",
    "  apakah pasien punya penyakit Chronic obstructive pulmonary atau tidak\n",
    "\n",
    "ASTHMA:\n",
    "  [integer]\n",
    "  [1-2]\n",
    "  apakah pasien punya asma atau tidak\n",
    "\n",
    "INMSUPR:\n",
    "  [integer]\n",
    "  [1-2]\n",
    "  apakah pasien immunosuppressed atau tidak\n",
    "\n",
    "HIPERTENSION:\n",
    "  [integer]\n",
    "  [1-2]\n",
    "  apakah pasient hipertensi atau tidak\n",
    "\n",
    "CARDIOVASCULAR:\n",
    "  [integer]\n",
    "  [1-2]\n",
    "  apakah pasien memiliki penyakit jantung atau pembuluh darah\n",
    "\n",
    "RENAL_CHRONIC:\n",
    "  [integer]\n",
    "  [1-2]\n",
    "  apakah pasien memiliki chronic renal disease atau tidak\n",
    "\n",
    "OTHER_DISEASE:\n",
    "  [integer]\n",
    "  [1-2]\n",
    "  apakah pasien memiliki penyakit lain atau tidak\n",
    "\n",
    "OBESITY:\n",
    "  [integer]\n",
    "  [1-2]\n",
    "  apakah pasien obesitas\n",
    "\n",
    "TOBACCO:\n",
    "  [integer]\n",
    "  [1-2]\n",
    "  apakah pasien merokok atau tidak\n",
    "\n",
    "USMR:\n",
    "  [integer]\n",
    "  [1-2]\n",
    "  apakah pasien dirawat pada kelas 1, 2, atau 3\n",
    "\n",
    "MEDICAL_UNIT:\n",
    "  [integer]\n",
    "  [1-13]\n",
    "  tipe institusi kesehatan yang menyediakan jasa perawatan\n",
    "\n",
    "INTUBED:\n",
    "  [integer]\n",
    "  [1-2]\n",
    "  apakah pasien terhubung ke ventilator\n",
    "\n",
    "ICU:\n",
    "  [integer]\n",
    "  [1-2]\n",
    "  apakah pasien masuk ke ICU\n",
    "```"
   ]
  },
  {
   "cell_type": "markdown",
   "metadata": {},
   "source": [
    "## Data Validation"
   ]
  },
  {
   "cell_type": "markdown",
   "metadata": {},
   "source": [
    "### 1. Cek tipe data"
   ]
  },
  {
   "cell_type": "code",
   "execution_count": 172,
   "metadata": {},
   "outputs": [
    {
     "data": {
      "text/plain": [
       "USMER                    int64\n",
       "MEDICAL_UNIT             int64\n",
       "SEX                      int64\n",
       "PATIENT_TYPE             int64\n",
       "DATE_DIED               object\n",
       "INTUBED                  int64\n",
       "PNEUMONIA                int64\n",
       "AGE                      int64\n",
       "PREGNANT                 int64\n",
       "DIABETES                 int64\n",
       "COPD                     int64\n",
       "ASTHMA                   int64\n",
       "INMSUPR                  int64\n",
       "HIPERTENSION             int64\n",
       "OTHER_DISEASE            int64\n",
       "CARDIOVASCULAR           int64\n",
       "OBESITY                  int64\n",
       "RENAL_CHRONIC            int64\n",
       "TOBACCO                  int64\n",
       "CLASIFFICATION_FINAL     int64\n",
       "ICU                      int64\n",
       "dtype: object"
      ]
     },
     "execution_count": 172,
     "metadata": {},
     "output_type": "execute_result"
    }
   ],
   "source": [
    "dataset.dtypes"
   ]
  },
  {
   "cell_type": "markdown",
   "metadata": {},
   "source": [
    "Dari hasil pengecekan, semua data sesuai"
   ]
  },
  {
   "cell_type": "markdown",
   "metadata": {},
   "source": [
    "### 2. Range"
   ]
  },
  {
   "cell_type": "code",
   "execution_count": 173,
   "metadata": {},
   "outputs": [
    {
     "data": {
      "text/html": [
       "<div>\n",
       "<style scoped>\n",
       "    .dataframe tbody tr th:only-of-type {\n",
       "        vertical-align: middle;\n",
       "    }\n",
       "\n",
       "    .dataframe tbody tr th {\n",
       "        vertical-align: top;\n",
       "    }\n",
       "\n",
       "    .dataframe thead th {\n",
       "        text-align: right;\n",
       "    }\n",
       "</style>\n",
       "<table border=\"1\" class=\"dataframe\">\n",
       "  <thead>\n",
       "    <tr style=\"text-align: right;\">\n",
       "      <th></th>\n",
       "      <th>USMER</th>\n",
       "      <th>MEDICAL_UNIT</th>\n",
       "      <th>SEX</th>\n",
       "      <th>PATIENT_TYPE</th>\n",
       "      <th>INTUBED</th>\n",
       "      <th>PNEUMONIA</th>\n",
       "      <th>AGE</th>\n",
       "      <th>PREGNANT</th>\n",
       "      <th>DIABETES</th>\n",
       "      <th>COPD</th>\n",
       "      <th>ASTHMA</th>\n",
       "      <th>INMSUPR</th>\n",
       "      <th>HIPERTENSION</th>\n",
       "      <th>OTHER_DISEASE</th>\n",
       "      <th>CARDIOVASCULAR</th>\n",
       "      <th>OBESITY</th>\n",
       "      <th>RENAL_CHRONIC</th>\n",
       "      <th>TOBACCO</th>\n",
       "      <th>CLASIFFICATION_FINAL</th>\n",
       "      <th>ICU</th>\n",
       "    </tr>\n",
       "  </thead>\n",
       "  <tbody>\n",
       "    <tr>\n",
       "      <th>count</th>\n",
       "      <td>1.048575e+06</td>\n",
       "      <td>1.048575e+06</td>\n",
       "      <td>1.048575e+06</td>\n",
       "      <td>1.048575e+06</td>\n",
       "      <td>1.048575e+06</td>\n",
       "      <td>1.048575e+06</td>\n",
       "      <td>1.048575e+06</td>\n",
       "      <td>1.048575e+06</td>\n",
       "      <td>1.048575e+06</td>\n",
       "      <td>1.048575e+06</td>\n",
       "      <td>1.048575e+06</td>\n",
       "      <td>1.048575e+06</td>\n",
       "      <td>1.048575e+06</td>\n",
       "      <td>1.048575e+06</td>\n",
       "      <td>1.048575e+06</td>\n",
       "      <td>1.048575e+06</td>\n",
       "      <td>1.048575e+06</td>\n",
       "      <td>1.048575e+06</td>\n",
       "      <td>1.048575e+06</td>\n",
       "      <td>1.048575e+06</td>\n",
       "    </tr>\n",
       "    <tr>\n",
       "      <th>mean</th>\n",
       "      <td>1.632194e+00</td>\n",
       "      <td>8.980565e+00</td>\n",
       "      <td>1.499259e+00</td>\n",
       "      <td>1.190765e+00</td>\n",
       "      <td>7.952288e+01</td>\n",
       "      <td>3.346831e+00</td>\n",
       "      <td>4.179410e+01</td>\n",
       "      <td>4.976558e+01</td>\n",
       "      <td>2.186404e+00</td>\n",
       "      <td>2.260569e+00</td>\n",
       "      <td>2.242626e+00</td>\n",
       "      <td>2.298132e+00</td>\n",
       "      <td>2.128989e+00</td>\n",
       "      <td>2.435143e+00</td>\n",
       "      <td>2.261810e+00</td>\n",
       "      <td>2.125176e+00</td>\n",
       "      <td>2.257180e+00</td>\n",
       "      <td>2.214333e+00</td>\n",
       "      <td>5.305653e+00</td>\n",
       "      <td>7.955397e+01</td>\n",
       "    </tr>\n",
       "    <tr>\n",
       "      <th>std</th>\n",
       "      <td>4.822084e-01</td>\n",
       "      <td>3.723278e+00</td>\n",
       "      <td>4.999997e-01</td>\n",
       "      <td>3.929041e-01</td>\n",
       "      <td>3.686889e+01</td>\n",
       "      <td>1.191288e+01</td>\n",
       "      <td>1.690739e+01</td>\n",
       "      <td>4.751073e+01</td>\n",
       "      <td>5.424242e+00</td>\n",
       "      <td>5.132258e+00</td>\n",
       "      <td>5.114089e+00</td>\n",
       "      <td>5.462843e+00</td>\n",
       "      <td>5.236397e+00</td>\n",
       "      <td>6.646676e+00</td>\n",
       "      <td>5.194850e+00</td>\n",
       "      <td>5.175445e+00</td>\n",
       "      <td>5.135354e+00</td>\n",
       "      <td>5.323097e+00</td>\n",
       "      <td>1.881165e+00</td>\n",
       "      <td>3.682307e+01</td>\n",
       "    </tr>\n",
       "    <tr>\n",
       "      <th>min</th>\n",
       "      <td>1.000000e+00</td>\n",
       "      <td>1.000000e+00</td>\n",
       "      <td>1.000000e+00</td>\n",
       "      <td>1.000000e+00</td>\n",
       "      <td>1.000000e+00</td>\n",
       "      <td>1.000000e+00</td>\n",
       "      <td>0.000000e+00</td>\n",
       "      <td>1.000000e+00</td>\n",
       "      <td>1.000000e+00</td>\n",
       "      <td>1.000000e+00</td>\n",
       "      <td>1.000000e+00</td>\n",
       "      <td>1.000000e+00</td>\n",
       "      <td>1.000000e+00</td>\n",
       "      <td>1.000000e+00</td>\n",
       "      <td>1.000000e+00</td>\n",
       "      <td>1.000000e+00</td>\n",
       "      <td>1.000000e+00</td>\n",
       "      <td>1.000000e+00</td>\n",
       "      <td>1.000000e+00</td>\n",
       "      <td>1.000000e+00</td>\n",
       "    </tr>\n",
       "    <tr>\n",
       "      <th>25%</th>\n",
       "      <td>1.000000e+00</td>\n",
       "      <td>4.000000e+00</td>\n",
       "      <td>1.000000e+00</td>\n",
       "      <td>1.000000e+00</td>\n",
       "      <td>9.700000e+01</td>\n",
       "      <td>2.000000e+00</td>\n",
       "      <td>3.000000e+01</td>\n",
       "      <td>2.000000e+00</td>\n",
       "      <td>2.000000e+00</td>\n",
       "      <td>2.000000e+00</td>\n",
       "      <td>2.000000e+00</td>\n",
       "      <td>2.000000e+00</td>\n",
       "      <td>2.000000e+00</td>\n",
       "      <td>2.000000e+00</td>\n",
       "      <td>2.000000e+00</td>\n",
       "      <td>2.000000e+00</td>\n",
       "      <td>2.000000e+00</td>\n",
       "      <td>2.000000e+00</td>\n",
       "      <td>3.000000e+00</td>\n",
       "      <td>9.700000e+01</td>\n",
       "    </tr>\n",
       "    <tr>\n",
       "      <th>50%</th>\n",
       "      <td>2.000000e+00</td>\n",
       "      <td>1.200000e+01</td>\n",
       "      <td>1.000000e+00</td>\n",
       "      <td>1.000000e+00</td>\n",
       "      <td>9.700000e+01</td>\n",
       "      <td>2.000000e+00</td>\n",
       "      <td>4.000000e+01</td>\n",
       "      <td>9.700000e+01</td>\n",
       "      <td>2.000000e+00</td>\n",
       "      <td>2.000000e+00</td>\n",
       "      <td>2.000000e+00</td>\n",
       "      <td>2.000000e+00</td>\n",
       "      <td>2.000000e+00</td>\n",
       "      <td>2.000000e+00</td>\n",
       "      <td>2.000000e+00</td>\n",
       "      <td>2.000000e+00</td>\n",
       "      <td>2.000000e+00</td>\n",
       "      <td>2.000000e+00</td>\n",
       "      <td>6.000000e+00</td>\n",
       "      <td>9.700000e+01</td>\n",
       "    </tr>\n",
       "    <tr>\n",
       "      <th>75%</th>\n",
       "      <td>2.000000e+00</td>\n",
       "      <td>1.200000e+01</td>\n",
       "      <td>2.000000e+00</td>\n",
       "      <td>1.000000e+00</td>\n",
       "      <td>9.700000e+01</td>\n",
       "      <td>2.000000e+00</td>\n",
       "      <td>5.300000e+01</td>\n",
       "      <td>9.700000e+01</td>\n",
       "      <td>2.000000e+00</td>\n",
       "      <td>2.000000e+00</td>\n",
       "      <td>2.000000e+00</td>\n",
       "      <td>2.000000e+00</td>\n",
       "      <td>2.000000e+00</td>\n",
       "      <td>2.000000e+00</td>\n",
       "      <td>2.000000e+00</td>\n",
       "      <td>2.000000e+00</td>\n",
       "      <td>2.000000e+00</td>\n",
       "      <td>2.000000e+00</td>\n",
       "      <td>7.000000e+00</td>\n",
       "      <td>9.700000e+01</td>\n",
       "    </tr>\n",
       "    <tr>\n",
       "      <th>max</th>\n",
       "      <td>2.000000e+00</td>\n",
       "      <td>1.300000e+01</td>\n",
       "      <td>2.000000e+00</td>\n",
       "      <td>2.000000e+00</td>\n",
       "      <td>9.900000e+01</td>\n",
       "      <td>9.900000e+01</td>\n",
       "      <td>1.210000e+02</td>\n",
       "      <td>9.800000e+01</td>\n",
       "      <td>9.800000e+01</td>\n",
       "      <td>9.800000e+01</td>\n",
       "      <td>9.800000e+01</td>\n",
       "      <td>9.800000e+01</td>\n",
       "      <td>9.800000e+01</td>\n",
       "      <td>9.800000e+01</td>\n",
       "      <td>9.800000e+01</td>\n",
       "      <td>9.800000e+01</td>\n",
       "      <td>9.800000e+01</td>\n",
       "      <td>9.800000e+01</td>\n",
       "      <td>7.000000e+00</td>\n",
       "      <td>9.900000e+01</td>\n",
       "    </tr>\n",
       "  </tbody>\n",
       "</table>\n",
       "</div>"
      ],
      "text/plain": [
       "              USMER  MEDICAL_UNIT           SEX  PATIENT_TYPE       INTUBED  \\\n",
       "count  1.048575e+06  1.048575e+06  1.048575e+06  1.048575e+06  1.048575e+06   \n",
       "mean   1.632194e+00  8.980565e+00  1.499259e+00  1.190765e+00  7.952288e+01   \n",
       "std    4.822084e-01  3.723278e+00  4.999997e-01  3.929041e-01  3.686889e+01   \n",
       "min    1.000000e+00  1.000000e+00  1.000000e+00  1.000000e+00  1.000000e+00   \n",
       "25%    1.000000e+00  4.000000e+00  1.000000e+00  1.000000e+00  9.700000e+01   \n",
       "50%    2.000000e+00  1.200000e+01  1.000000e+00  1.000000e+00  9.700000e+01   \n",
       "75%    2.000000e+00  1.200000e+01  2.000000e+00  1.000000e+00  9.700000e+01   \n",
       "max    2.000000e+00  1.300000e+01  2.000000e+00  2.000000e+00  9.900000e+01   \n",
       "\n",
       "          PNEUMONIA           AGE      PREGNANT      DIABETES          COPD  \\\n",
       "count  1.048575e+06  1.048575e+06  1.048575e+06  1.048575e+06  1.048575e+06   \n",
       "mean   3.346831e+00  4.179410e+01  4.976558e+01  2.186404e+00  2.260569e+00   \n",
       "std    1.191288e+01  1.690739e+01  4.751073e+01  5.424242e+00  5.132258e+00   \n",
       "min    1.000000e+00  0.000000e+00  1.000000e+00  1.000000e+00  1.000000e+00   \n",
       "25%    2.000000e+00  3.000000e+01  2.000000e+00  2.000000e+00  2.000000e+00   \n",
       "50%    2.000000e+00  4.000000e+01  9.700000e+01  2.000000e+00  2.000000e+00   \n",
       "75%    2.000000e+00  5.300000e+01  9.700000e+01  2.000000e+00  2.000000e+00   \n",
       "max    9.900000e+01  1.210000e+02  9.800000e+01  9.800000e+01  9.800000e+01   \n",
       "\n",
       "             ASTHMA       INMSUPR  HIPERTENSION  OTHER_DISEASE  \\\n",
       "count  1.048575e+06  1.048575e+06  1.048575e+06   1.048575e+06   \n",
       "mean   2.242626e+00  2.298132e+00  2.128989e+00   2.435143e+00   \n",
       "std    5.114089e+00  5.462843e+00  5.236397e+00   6.646676e+00   \n",
       "min    1.000000e+00  1.000000e+00  1.000000e+00   1.000000e+00   \n",
       "25%    2.000000e+00  2.000000e+00  2.000000e+00   2.000000e+00   \n",
       "50%    2.000000e+00  2.000000e+00  2.000000e+00   2.000000e+00   \n",
       "75%    2.000000e+00  2.000000e+00  2.000000e+00   2.000000e+00   \n",
       "max    9.800000e+01  9.800000e+01  9.800000e+01   9.800000e+01   \n",
       "\n",
       "       CARDIOVASCULAR       OBESITY  RENAL_CHRONIC       TOBACCO  \\\n",
       "count    1.048575e+06  1.048575e+06   1.048575e+06  1.048575e+06   \n",
       "mean     2.261810e+00  2.125176e+00   2.257180e+00  2.214333e+00   \n",
       "std      5.194850e+00  5.175445e+00   5.135354e+00  5.323097e+00   \n",
       "min      1.000000e+00  1.000000e+00   1.000000e+00  1.000000e+00   \n",
       "25%      2.000000e+00  2.000000e+00   2.000000e+00  2.000000e+00   \n",
       "50%      2.000000e+00  2.000000e+00   2.000000e+00  2.000000e+00   \n",
       "75%      2.000000e+00  2.000000e+00   2.000000e+00  2.000000e+00   \n",
       "max      9.800000e+01  9.800000e+01   9.800000e+01  9.800000e+01   \n",
       "\n",
       "       CLASIFFICATION_FINAL           ICU  \n",
       "count          1.048575e+06  1.048575e+06  \n",
       "mean           5.305653e+00  7.955397e+01  \n",
       "std            1.881165e+00  3.682307e+01  \n",
       "min            1.000000e+00  1.000000e+00  \n",
       "25%            3.000000e+00  9.700000e+01  \n",
       "50%            6.000000e+00  9.700000e+01  \n",
       "75%            7.000000e+00  9.700000e+01  \n",
       "max            7.000000e+00  9.900000e+01  "
      ]
     },
     "execution_count": 173,
     "metadata": {},
     "output_type": "execute_result"
    }
   ],
   "source": [
    "dataset.describe()"
   ]
  },
  {
   "cell_type": "markdown",
   "metadata": {},
   "source": [
    "### 3. Dimensi Data"
   ]
  },
  {
   "cell_type": "code",
   "execution_count": 174,
   "metadata": {},
   "outputs": [
    {
     "data": {
      "text/plain": [
       "(1048575, 21)"
      ]
     },
     "execution_count": 174,
     "metadata": {},
     "output_type": "execute_result"
    }
   ],
   "source": [
    "dataset.shape"
   ]
  },
  {
   "cell_type": "markdown",
   "metadata": {},
   "source": [
    "### 4. Handling Column Error"
   ]
  },
  {
   "cell_type": "markdown",
   "metadata": {},
   "source": [
    "### 4.1. Remove null"
   ]
  },
  {
   "cell_type": "markdown",
   "metadata": {},
   "source": [
    "Pada boolean, 1 = yes 2 = no\n",
    "Nilai 97..99 = null"
   ]
  },
  {
   "cell_type": "code",
   "execution_count": 199,
   "metadata": {},
   "outputs": [],
   "source": [
    "dataset.drop(index = dataset[dataset.USMER > 2].index, inplace = True)"
   ]
  },
  {
   "cell_type": "code",
   "execution_count": 200,
   "metadata": {},
   "outputs": [],
   "source": [
    "dataset.drop(index = dataset[dataset.SEX > 2].index, inplace = True)"
   ]
  },
  {
   "cell_type": "code",
   "execution_count": 201,
   "metadata": {},
   "outputs": [
    {
     "data": {
      "text/plain": [
       "array([2])"
      ]
     },
     "execution_count": 201,
     "metadata": {},
     "output_type": "execute_result"
    }
   ],
   "source": [
    "# handle patient_type\n",
    "dataset.PATIENT_TYPE.unique()"
   ]
  },
  {
   "cell_type": "code",
   "execution_count": 202,
   "metadata": {},
   "outputs": [],
   "source": [
    "# handle intubed\n",
    "dataset.INTUBED.unique()\n",
    "dataset.drop(index = dataset[dataset.INTUBED > 2].index, inplace = True)"
   ]
  },
  {
   "cell_type": "code",
   "execution_count": 219,
   "metadata": {},
   "outputs": [
    {
     "name": "stdout",
     "output_type": "stream",
     "text": [
      "[2 1]\n"
     ]
    }
   ],
   "source": [
    "# handle pneumonia\n",
    "print(dataset.PNEUMONIA.unique())"
   ]
  },
  {
   "cell_type": "code",
   "execution_count": 220,
   "metadata": {},
   "outputs": [
    {
     "name": "stdout",
     "output_type": "stream",
     "text": [
      "[97  2 98  1]\n"
     ]
    }
   ],
   "source": [
    "# handle pregnant\n",
    "print(dataset.PREGNANT.unique())\n",
    "dataset.drop(index = dataset[dataset.PREGNANT > 2].index, inplace = True)"
   ]
  },
  {
   "cell_type": "code",
   "execution_count": 203,
   "metadata": {},
   "outputs": [
    {
     "name": "stdout",
     "output_type": "stream",
     "text": [
      "[ 1  2 98]\n"
     ]
    }
   ],
   "source": [
    "# handle diabetes\n",
    "print(dataset.DIABETES.unique())\n",
    "dataset.drop(index = dataset[dataset.DIABETES > 2].index, inplace = True)"
   ]
  },
  {
   "cell_type": "code",
   "execution_count": 204,
   "metadata": {},
   "outputs": [
    {
     "name": "stdout",
     "output_type": "stream",
     "text": [
      "[ 2  1 98]\n"
     ]
    }
   ],
   "source": [
    "# handle COPD\n",
    "print(dataset.COPD.unique())\n",
    "dataset.drop(index = dataset[dataset.COPD > 2].index, inplace = True)"
   ]
  },
  {
   "cell_type": "code",
   "execution_count": 205,
   "metadata": {},
   "outputs": [
    {
     "name": "stdout",
     "output_type": "stream",
     "text": [
      "[ 2  1 98]\n"
     ]
    }
   ],
   "source": [
    "# handle ASTHMA\n",
    "print(dataset.ASTHMA.unique())\n",
    "dataset.drop(index = dataset[dataset.ASTHMA > 2].index, inplace = True)"
   ]
  },
  {
   "cell_type": "code",
   "execution_count": 206,
   "metadata": {},
   "outputs": [
    {
     "name": "stdout",
     "output_type": "stream",
     "text": [
      "[ 2  1 98]\n"
     ]
    }
   ],
   "source": [
    "# handle INMSUPR\n",
    "print(dataset.INMSUPR.unique())\n",
    "dataset.drop(index = dataset[dataset.INMSUPR > 2].index, inplace = True)"
   ]
  },
  {
   "cell_type": "code",
   "execution_count": 207,
   "metadata": {},
   "outputs": [
    {
     "name": "stdout",
     "output_type": "stream",
     "text": [
      "[ 2  1 98]\n"
     ]
    }
   ],
   "source": [
    "# handle HIPERTENSION\n",
    "print(dataset.HIPERTENSION.unique())\n",
    "dataset.drop(index = dataset[dataset.HIPERTENSION > 2].index, inplace = True)"
   ]
  },
  {
   "cell_type": "code",
   "execution_count": 208,
   "metadata": {},
   "outputs": [
    {
     "name": "stdout",
     "output_type": "stream",
     "text": [
      "[ 2  1 98]\n"
     ]
    }
   ],
   "source": [
    "# handle OTHER_DISEASE\n",
    "print(dataset.OTHER_DISEASE.unique())\n",
    "dataset.drop(index = dataset[dataset.OTHER_DISEASE > 2].index, inplace = True)"
   ]
  },
  {
   "cell_type": "code",
   "execution_count": 210,
   "metadata": {},
   "outputs": [
    {
     "name": "stdout",
     "output_type": "stream",
     "text": [
      "[ 2  1 98]\n"
     ]
    }
   ],
   "source": [
    "# handle CARDIOVASCULAR\n",
    "print(dataset.CARDIOVASCULAR.unique())\n",
    "dataset.drop(index = dataset[dataset.CARDIOVASCULAR > 2].index, inplace = True)"
   ]
  },
  {
   "cell_type": "code",
   "execution_count": 209,
   "metadata": {},
   "outputs": [
    {
     "name": "stdout",
     "output_type": "stream",
     "text": [
      "[ 2  1 98]\n"
     ]
    }
   ],
   "source": [
    "# handle OBESITY\n",
    "print(dataset.OBESITY.unique())\n",
    "dataset.drop(index = dataset[dataset.OBESITY > 2].index, inplace = True)"
   ]
  },
  {
   "cell_type": "code",
   "execution_count": 211,
   "metadata": {},
   "outputs": [
    {
     "name": "stdout",
     "output_type": "stream",
     "text": [
      "[ 2  1 98]\n"
     ]
    }
   ],
   "source": [
    "# handle RENAL_CHRONIC\n",
    "print(dataset.RENAL_CHRONIC.unique())\n",
    "dataset.drop(index = dataset[dataset.RENAL_CHRONIC > 2].index, inplace = True)"
   ]
  },
  {
   "cell_type": "code",
   "execution_count": 212,
   "metadata": {},
   "outputs": [
    {
     "name": "stdout",
     "output_type": "stream",
     "text": [
      "[ 2  1 98]\n"
     ]
    }
   ],
   "source": [
    "# handle TOBACCO\n",
    "print(dataset.TOBACCO.unique())\n",
    "dataset.drop(index = dataset[dataset.TOBACCO > 2].index, inplace = True)"
   ]
  },
  {
   "cell_type": "code",
   "execution_count": 213,
   "metadata": {},
   "outputs": [
    {
     "name": "stdout",
     "output_type": "stream",
     "text": [
      "[ 2  1 99]\n"
     ]
    }
   ],
   "source": [
    "# handle ICU\n",
    "print(dataset.ICU.unique())\n",
    "dataset.drop(index = dataset[dataset.ICU > 2].index, inplace = True)"
   ]
  },
  {
   "cell_type": "markdown",
   "metadata": {},
   "source": [
    "### 4.2. Handling column DEATH"
   ]
  },
  {
   "cell_type": "code",
   "execution_count": 242,
   "metadata": {},
   "outputs": [],
   "source": [
    "dataset['DEATH'] = np.where(dataset.DATE_DIED == '9999-99-99', 2, 1)\n",
    "dataset['DEATH'] = dataset['DEATH'].astype(int)"
   ]
  },
  {
   "cell_type": "code",
   "execution_count": 243,
   "metadata": {},
   "outputs": [
    {
     "name": "stdout",
     "output_type": "stream",
     "text": [
      "<class 'pandas.core.frame.DataFrame'>\n",
      "Int64Index: 76832 entries, 5 to 1048569\n",
      "Data columns (total 22 columns):\n",
      " #   Column                Non-Null Count  Dtype \n",
      "---  ------                --------------  ----- \n",
      " 0   USMER                 76832 non-null  int64 \n",
      " 1   MEDICAL_UNIT          76832 non-null  int64 \n",
      " 2   SEX                   76832 non-null  int64 \n",
      " 3   PATIENT_TYPE          76832 non-null  int64 \n",
      " 4   DATE_DIED             76832 non-null  object\n",
      " 5   INTUBED               76832 non-null  int64 \n",
      " 6   PNEUMONIA             76832 non-null  int64 \n",
      " 7   AGE                   76832 non-null  int64 \n",
      " 8   PREGNANT              76832 non-null  int64 \n",
      " 9   DIABETES              76832 non-null  int64 \n",
      " 10  COPD                  76832 non-null  int64 \n",
      " 11  ASTHMA                76832 non-null  int64 \n",
      " 12  INMSUPR               76832 non-null  int64 \n",
      " 13  HIPERTENSION          76832 non-null  int64 \n",
      " 14  OTHER_DISEASE         76832 non-null  int64 \n",
      " 15  CARDIOVASCULAR        76832 non-null  int64 \n",
      " 16  OBESITY               76832 non-null  int64 \n",
      " 17  RENAL_CHRONIC         76832 non-null  int64 \n",
      " 18  TOBACCO               76832 non-null  int64 \n",
      " 19  CLASIFFICATION_FINAL  76832 non-null  int64 \n",
      " 20  ICU                   76832 non-null  int64 \n",
      " 21  DEATH                 76832 non-null  int64 \n",
      "dtypes: int64(21), object(1)\n",
      "memory usage: 13.5+ MB\n"
     ]
    }
   ],
   "source": [
    "dataset.info()"
   ]
  },
  {
   "cell_type": "code",
   "execution_count": 244,
   "metadata": {},
   "outputs": [
    {
     "data": {
      "text/plain": [
       "['../data/processed/covid_dataset.pkl']"
      ]
     },
     "execution_count": 244,
     "metadata": {},
     "output_type": "execute_result"
    }
   ],
   "source": [
    "joblib.dump(dataset, params['dataset_cleaned_path'])"
   ]
  },
  {
   "cell_type": "markdown",
   "metadata": {},
   "source": [
    "## 4. Data Defense"
   ]
  },
  {
   "cell_type": "code",
   "execution_count": 258,
   "metadata": {},
   "outputs": [],
   "source": [
    "def check_data(input_data, params):\n",
    "    # check data types\n",
    "    assert input_data.select_dtypes(\"int\").columns.to_list() == params[\"int_columns\"], \"an error occurs in int column(s).\"\n",
    "\n",
    "    # check range of data\n",
    "    assert input_data.USMER.between(params[\"range_usmr\"][0], params[\"range_usmr\"][1]).sum() == len(input_data), \"an error occurs in USMER range.\"\n",
    "    assert input_data.MEDICAL_UNIT.between(params[\"range_medical_unit\"][0], params[\"range_medical_unit\"][1]).sum() == len(input_data), \"an error occurs in MEDICAL_UNIT range.\"\n",
    "    assert input_data.SEX.between(params[\"range_sex\"][0], params[\"range_sex\"][1]).sum() == len(input_data), \"an error occurs in SEX range.\"\n",
    "    assert input_data.PATIENT_TYPE.between(params[\"range_patient_type\"][0], params[\"range_patient_type\"][1]).sum() == len(input_data), \"an error occurs in PATIENT_TYPE range.\"\n",
    "    assert input_data.INTUBED.between(params[\"range_intubed\"][0], params[\"range_intubed\"][1]).sum() == len(input_data), \"an error occurs in INTUBED range.\"\n",
    "    assert input_data.PNEUMONIA.between(params[\"range_pneumonia\"][0], params[\"range_pneumonia\"][1]).sum() == len(input_data), \"an error occurs in PNEUMONIA range.\"\n",
    "    assert input_data.AGE.between(params[\"range_age\"][0], params[\"range_age\"][1]).sum() == len(input_data), \"an error occurs in AGE range.\"\n",
    "    assert input_data.PREGNANT.between(params[\"range_pregnant\"][0], params[\"range_pregnant\"][1]).sum() == len(input_data), \"an error occurs in PREGNANT range.\"\n",
    "    assert input_data.DIABETES.between(params[\"range_diabetes\"][0], params[\"range_diabetes\"][1]).sum() == len(input_data), \"an error occurs in DIABETES range.\"\n",
    "    assert input_data.COPD.between(params[\"range_copd\"][0], params[\"range_copd\"][1]).sum() == len(input_data), \"an error occurs in COPD range.\"\n",
    "    assert input_data.ASTHMA.between(params[\"range_asthma\"][0], params[\"range_asthma\"][1]).sum() == len(input_data), \"an error occurs in ASTHMA range.\"\n",
    "    assert input_data.INMSUPR.between(params[\"range_inmsupr\"][0], params[\"range_inmsupr\"][1]).sum() == len(input_data), \"an error occurs in INMSUPR range.\"\n",
    "    assert input_data.HIPERTENSION.between(params[\"range_hipertension\"][0], params[\"range_hipertension\"][1]).sum() == len(input_data), \"an error occurs in HIPERTENSION range.\"\n",
    "    assert input_data.OTHER_DISEASE.between(params[\"range_other_disease\"][0], params[\"range_other_disease\"][1]).sum() == len(input_data), \"an error occurs in OTHER_DISEASE range.\"\n",
    "    assert input_data.CARDIOVASCULAR.between(params[\"range_cardiovascular\"][0], params[\"range_cardiovascular\"][1]).sum() == len(input_data), \"an error occurs in CARDIOVASCULAR range.\"\n",
    "    assert input_data.OBESITY.between(params[\"range_obesity\"][0], params[\"range_obesity\"][1]).sum() == len(input_data), \"an error occurs in OBESITY range.\"\n",
    "    assert input_data.RENAL_CHRONIC.between(params[\"range_renal_chronic\"][0], params[\"range_renal_chronic\"][1]).sum() == len(input_data), \"an error occurs in RENAL_CHRONIC range.\"\n",
    "    assert input_data.TOBACCO.between(params[\"range_tobacco\"][0], params[\"range_tobacco\"][1]).sum() == len(input_data), \"an error occurs in TOBACCO range.\"\n",
    "    assert input_data.CLASIFFICATION_FINAL.between(params[\"range_classification\"][0], params[\"range_classification\"][1]).sum() == len(input_data), \"an error occurs in CLASIFFICATION_FINAL range.\"\n",
    "    assert input_data.ICU.between(params[\"range_icu\"][0], params[\"range_icu\"][1]).sum() == len(input_data), \"an error occurs in ICU range.\""
   ]
  },
  {
   "cell_type": "code",
   "execution_count": 259,
   "metadata": {},
   "outputs": [],
   "source": [
    "check_data(dataset, params)"
   ]
  },
  {
   "cell_type": "markdown",
   "metadata": {},
   "source": [
    "data sudah sesuai design, tidak ada error"
   ]
  },
  {
   "cell_type": "markdown",
   "metadata": {},
   "source": [
    "## Data Splitting"
   ]
  },
  {
   "cell_type": "code",
   "execution_count": 267,
   "metadata": {},
   "outputs": [],
   "source": [
    "x = dataset[params[\"predictors\"]].copy()\n",
    "y = dataset[\"DEATH\"].copy()"
   ]
  },
  {
   "cell_type": "code",
   "execution_count": 263,
   "metadata": {},
   "outputs": [
    {
     "name": "stdout",
     "output_type": "stream",
     "text": [
      "<class 'pandas.core.frame.DataFrame'>\n",
      "Int64Index: 76832 entries, 5 to 1048569\n",
      "Data columns (total 20 columns):\n",
      " #   Column                Non-Null Count  Dtype\n",
      "---  ------                --------------  -----\n",
      " 0   USMER                 76832 non-null  int64\n",
      " 1   MEDICAL_UNIT          76832 non-null  int64\n",
      " 2   SEX                   76832 non-null  int64\n",
      " 3   PATIENT_TYPE          76832 non-null  int64\n",
      " 4   INTUBED               76832 non-null  int64\n",
      " 5   PNEUMONIA             76832 non-null  int64\n",
      " 6   AGE                   76832 non-null  int64\n",
      " 7   PREGNANT              76832 non-null  int64\n",
      " 8   DIABETES              76832 non-null  int64\n",
      " 9   COPD                  76832 non-null  int64\n",
      " 10  ASTHMA                76832 non-null  int64\n",
      " 11  INMSUPR               76832 non-null  int64\n",
      " 12  HIPERTENSION          76832 non-null  int64\n",
      " 13  OTHER_DISEASE         76832 non-null  int64\n",
      " 14  CARDIOVASCULAR        76832 non-null  int64\n",
      " 15  OBESITY               76832 non-null  int64\n",
      " 16  RENAL_CHRONIC         76832 non-null  int64\n",
      " 17  TOBACCO               76832 non-null  int64\n",
      " 18  CLASIFFICATION_FINAL  76832 non-null  int64\n",
      " 19  ICU                   76832 non-null  int64\n",
      "dtypes: int64(20)\n",
      "memory usage: 12.3 MB\n"
     ]
    }
   ],
   "source": [
    "x.info()"
   ]
  },
  {
   "cell_type": "code",
   "execution_count": 269,
   "metadata": {},
   "outputs": [
    {
     "data": {
      "text/plain": [
       "2    52978\n",
       "1    23854\n",
       "Name: DEATH, dtype: int64"
      ]
     },
     "execution_count": 269,
     "metadata": {},
     "output_type": "execute_result"
    }
   ],
   "source": [
    "y.value_counts()"
   ]
  },
  {
   "cell_type": "code",
   "execution_count": 272,
   "metadata": {},
   "outputs": [],
   "source": [
    "from sklearn.model_selection import train_test_split"
   ]
  },
  {
   "cell_type": "code",
   "execution_count": 273,
   "metadata": {},
   "outputs": [],
   "source": [
    "x_train, x_test, y_train, y_test = train_test_split(x, y, test_size = 0.3, random_state = 42, stratify = y)"
   ]
  },
  {
   "cell_type": "code",
   "execution_count": 274,
   "metadata": {},
   "outputs": [],
   "source": [
    "x_valid, x_test, y_valid, y_test = train_test_split(x_test, y_test, test_size = 0.5, random_state = 42, stratify = y_test)"
   ]
  },
  {
   "cell_type": "code",
   "execution_count": 279,
   "metadata": {},
   "outputs": [
    {
     "data": {
      "text/plain": [
       "['../data/processed/y_test.pkl']"
      ]
     },
     "execution_count": 279,
     "metadata": {},
     "output_type": "execute_result"
    }
   ],
   "source": [
    "joblib.dump(x_train, params['train_set_path'][0])\n",
    "joblib.dump(y_train, params['train_set_path'][1])\n",
    "joblib.dump(x_valid, params['valid_set_path'][0])\n",
    "joblib.dump(y_valid, params['valid_set_path'][1])\n",
    "joblib.dump(x_test, params['test_set_path'][0])\n",
    "joblib.dump(y_test, params['test_set_path'][1])"
   ]
  }
 ],
 "metadata": {
  "kernelspec": {
   "display_name": "Python 3.10.1 ('.venv_final': venv)",
   "language": "python",
   "name": "python3"
  },
  "language_info": {
   "codemirror_mode": {
    "name": "ipython",
    "version": 3
   },
   "file_extension": ".py",
   "mimetype": "text/x-python",
   "name": "python",
   "nbconvert_exporter": "python",
   "pygments_lexer": "ipython3",
   "version": "3.10.1"
  },
  "orig_nbformat": 4,
  "vscode": {
   "interpreter": {
    "hash": "213bedafaca396695937205a7c126f945874af861d31e11f28ae977df16bf572"
   }
  }
 },
 "nbformat": 4,
 "nbformat_minor": 2
}
